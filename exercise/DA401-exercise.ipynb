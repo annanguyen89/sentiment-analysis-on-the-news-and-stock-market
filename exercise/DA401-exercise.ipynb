{
  "nbformat": 4,
  "nbformat_minor": 0,
  "metadata": {
    "colab": {
      "provenance": [],
      "authorship_tag": "ABX9TyNRs/PS+0zAShb3Pl9Wdg58",
      "include_colab_link": true
    },
    "kernelspec": {
      "name": "python3",
      "display_name": "Python 3"
    },
    "language_info": {
      "name": "python"
    }
  },
  "cells": [
    {
      "cell_type": "markdown",
      "metadata": {
        "id": "view-in-github",
        "colab_type": "text"
      },
      "source": [
        "<a href=\"https://colab.research.google.com/github/annanguyen89/sentiment-analysis-on-the-news-and-stock-market/blob/main/DA401-exercise.ipynb\" target=\"_parent\"><img src=\"https://colab.research.google.com/assets/colab-badge.svg\" alt=\"Open In Colab\"/></a>"
      ]
    },
    {
      "cell_type": "markdown",
      "source": [
        "### Function to find N nearest Starbucks stores"
      ],
      "metadata": {
        "id": "bzj4fa4STpN9"
      }
    },
    {
      "cell_type": "code",
      "execution_count": 1,
      "metadata": {
        "colab": {
          "base_uri": "https://localhost:8080/"
        },
        "id": "zG38UPtETn8T",
        "outputId": "28f43248-39f1-4ec9-dc50-cd21b8322a58"
      },
      "outputs": [
        {
          "output_type": "stream",
          "name": "stdout",
          "text": [
            "       Brand  Store Number        Store Name Ownership Type  \\\n",
            "0  Starbucks  47370-257954     Meritxell, 96       Licensed   \n",
            "1  Starbucks  22331-212325  Ajman Drive Thru       Licensed   \n",
            "2  Starbucks  47089-256771         Dana Mall       Licensed   \n",
            "3  Starbucks  22126-218024        Twofour 54       Licensed   \n",
            "4  Starbucks  17127-178586      Al Ain Tower       Licensed   \n",
            "\n",
            "                    Street Address              City State/Province Country  \\\n",
            "0                Av. Meritxell, 96  Andorra la Vella              7      AD   \n",
            "1             1 Street 69, Al Jarf             Ajman             AJ      AE   \n",
            "2     Sheikh Khalifa Bin Zayed St.             Ajman             AJ      AE   \n",
            "3                  Al Salam Street         Abu Dhabi             AZ      AE   \n",
            "4  Khaldiya Area, Abu Dhabi Island         Abu Dhabi             AZ      AE   \n",
            "\n",
            "  Postcode Phone Number                 Timezone  Longitude  Latitude  \n",
            "0    AD500    376818720  GMT+1:00 Europe/Andorra       1.53     42.51  \n",
            "1      NaN          NaN     GMT+04:00 Asia/Dubai      55.47     25.42  \n",
            "2      NaN          NaN     GMT+04:00 Asia/Dubai      55.47     25.39  \n",
            "3      NaN          NaN     GMT+04:00 Asia/Dubai      54.38     24.48  \n",
            "4      NaN          NaN     GMT+04:00 Asia/Dubai      54.54     24.51  \n"
          ]
        }
      ],
      "source": [
        "import pandas as pd\n",
        "\n",
        "# Load a CSV file\n",
        "data = pd.read_csv('starbucks_locations.csv')\n",
        "print(data.head())"
      ]
    },
    {
      "cell_type": "code",
      "source": [
        "def find_nearest_stores(data, lat, lon, n):\n",
        "    \"\"\"\n",
        "    Find the N nearest Starbucks stores to a given latitude and longitude\n",
        "    Parameters:\n",
        "    lat (float): The latitude of the location\n",
        "    long (float): The longitude of the location\n",
        "    n (int): The number of nearest stores to return\n",
        "    Returns:\n",
        "    list: A list of the N nearest store names\n",
        "    \"\"\"\n",
        "    nearest = []  # (dist2, row_index)\n",
        "\n",
        "    for i, row in data.iterrows():\n",
        "        dlat = float(row[\"Latitude\"]) - float(lat)\n",
        "        dlon = float(row[\"Longitude\"]) - float(lon)\n",
        "        dist2 = dlat * dlat + dlon * dlon\n",
        "\n",
        "        if len(nearest) < n:\n",
        "            nearest.append((dist2, i))\n",
        "        else:\n",
        "            # find the current worst (largest distance) in best\n",
        "            worst_pos = 0\n",
        "            for j in range(1, n):\n",
        "                if nearest[j][0] > nearest[worst_pos][0]:\n",
        "                    worst_pos = j\n",
        "            # if the new one is better, replace the worst\n",
        "            if dist2 < nearest[worst_pos][0]:\n",
        "                nearest[worst_pos] = (dist2, i)\n",
        "\n",
        "    # sort the kept candidates by distance and return their names\n",
        "    nearest.sort(key=lambda x: x[0])\n",
        "    idxs = [i for _, i in nearest]\n",
        "    return data.loc[idxs, \"Store Name\"].tolist()"
      ],
      "metadata": {
        "id": "YFBXyZb_Tum2"
      },
      "execution_count": 11,
      "outputs": []
    },
    {
      "cell_type": "code",
      "source": [
        "print(find_nearest_stores(data, lat=40.0, lon=-83.0, n=5))"
      ],
      "metadata": {
        "colab": {
          "base_uri": "https://localhost:8080/"
        },
        "id": "C_FCn_lYXNqP",
        "outputId": "aaa8165b-32a1-4ac0-be6d-e08b649c9cf0"
      },
      "execution_count": 12,
      "outputs": [
        {
          "output_type": "stream",
          "name": "stdout",
          "text": [
            "['Ohio State University', 'Market District - Columbus #6539', 'Nationwide Arena', 'Greater Columbus Convention Center', 'Olentangy River Road']\n"
          ]
        }
      ]
    }
  ]
}
